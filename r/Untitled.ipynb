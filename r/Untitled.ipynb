{
 "cells": [
  {
   "cell_type": "code",
   "execution_count": 2,
   "id": "4dd756c6-eb6e-4a28-ae10-d0db614f728f",
   "metadata": {
    "tags": []
   },
   "outputs": [
    {
     "name": "stderr",
     "output_type": "stream",
     "text": [
      "Warning message:\n",
      "“package ‘ggplot2’ was built under R version 4.1.3”\n",
      "Warning message:\n",
      "“package ‘dplyr’ was built under R version 4.1.3”\n",
      "\n",
      "Attaching package: ‘dplyr’\n",
      "\n",
      "\n",
      "The following objects are masked from ‘package:stats’:\n",
      "\n",
      "    filter, lag\n",
      "\n",
      "\n",
      "The following objects are masked from ‘package:base’:\n",
      "\n",
      "    intersect, setdiff, setequal, union\n",
      "\n",
      "\n"
     ]
    },
    {
     "ename": "ERROR",
     "evalue": "Error in library(ggthemes): there is no package called ‘ggthemes’\n",
     "output_type": "error",
     "traceback": [
      "Error in library(ggthemes): there is no package called ‘ggthemes’\nTraceback:\n",
      "1. library(ggthemes)"
     ]
    }
   ],
   "source": [
    "# Load necessary libraries\n",
    "library(ggplot2)\n",
    "library(dplyr)\n",
    "library(ggthemes)\n",
    "\n",
    "# Read the dataset\n",
    "df <- read.csv(\"data/titanic.csv\")\n",
    "\n",
    "# Convert df columns to factors\n",
    "df$Sex <- as.factor(df$Sex)\n",
    "df$Pclass <- as.factor(df$Pclass)\n",
    "df$Survived <- as.factor(df$Survived)\n",
    "# Question 1: Bar charts to describe the gender, ticket class and survival of the passengers\n",
    "\n",
    "# Bar chart for gender distribution\n",
    "gender_plot <- ggplot(df, aes(x = Sex)) +\n",
    "  geom_bar(fill = \"blue\", alpha = 0.7) +\n",
    "  labs(title = \"Gender Distribution on the Titanic\",\n",
    "       x = \"Gender\",\n",
    "       y = \"Count\") +\n",
    "  theme_minimal()\n",
    "ggsave(\"plots/q1_gender_distribution.png\", plot = gender_plot)\n",
    "\n",
    "# Bar chart for ticket class distribution\n",
    "ticket_class_plot <- ggplot(df, aes(x = Pclass)) +\n",
    "  geom_bar(fill = \"green\", alpha = 0.7) +\n",
    "  labs(title = \"Ticket Class Distribution on the Titanic\",\n",
    "       x = \"Ticket Class\",\n",
    "       y = \"Count\") +\n",
    "  theme_minimal()\n",
    "ggsave(\"plots/q1_ticket_class_distribution.png\", plot = ticket_class_plot)\n",
    "\n",
    "# Bar chart for survival rate\n",
    "survival_plot <- ggplot(df, aes(x = Survived)) +\n",
    "  geom_bar(fill = \"red\", alpha = 0.7) +\n",
    "  scale_x_discrete(labels = c(\"0\" = \"Not Survived\", \"1\" = \"Survived\")) +\n",
    "  labs(title = \"Survival Rate on the Titanic\",\n",
    "       x = \"Survival Status\",\n",
    "       y = \"Count\") +\n",
    "  theme_minimal()\n",
    "ggsave(\"plots/q1_survival_rate.png\", plot = survival_plot)\n",
    "\n"
   ]
  },
  {
   "cell_type": "code",
   "execution_count": null,
   "id": "f3d7a5ec-fcec-418b-bc2e-6ab2f5c33575",
   "metadata": {},
   "outputs": [],
   "source": []
  }
 ],
 "metadata": {
  "kernelspec": {
   "display_name": "R",
   "language": "R",
   "name": "ir"
  },
  "language_info": {
   "codemirror_mode": "r",
   "file_extension": ".r",
   "mimetype": "text/x-r-source",
   "name": "R",
   "pygments_lexer": "r",
   "version": "4.1.1"
  }
 },
 "nbformat": 4,
 "nbformat_minor": 5
}
